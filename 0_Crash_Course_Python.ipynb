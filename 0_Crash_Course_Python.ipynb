{
  "cells": [
    {
      "cell_type": "markdown",
      "metadata": {
        "id": "view-in-github",
        "colab_type": "text"
      },
      "source": [
        "<a href=\"https://colab.research.google.com/github/aqramlee/iads2022_introtopython/blob/main/0_Crash_Course_Python.ipynb\" target=\"_parent\"><img src=\"https://colab.research.google.com/assets/colab-badge.svg\" alt=\"Open In Colab\"/></a>"
      ]
    },
    {
      "cell_type": "markdown",
      "metadata": {
        "id": "7bW00MUUWxzt"
      },
      "source": [
        "# A (Shorter) Crash Course in Python for Scientists\n",
        "\n",
        "Heavily based on the original [Notebook (v6.0)](https://gist.githubusercontent.com/rpmuller/5920182/raw/97620296ff6c01d1fc9f5b2e67006fc239bf302c/Crash%2520Course%2520v0.5.ipynb.json) by \n",
        "[Rick Muller](http://www.cs.sandia.gov/~rmuller/), Sandia National Laboratories\n",
        "\n",
        "Adapted and reduced by Luca Citi\n",
        "\n",
        "This work is licensed under a [Creative Commons Attribution-ShareAlike 3.0 Unported License](http://creativecommons.org/licenses/by-sa/3.0/deed.en_US)."
      ]
    },
    {
      "cell_type": "markdown",
      "metadata": {
        "id": "5MWD6I9yWxz1"
      },
      "source": [
        "## What You Need to Install\n",
        "\n",
        "These notes assume you have a Python distribution that includes:\n",
        "\n",
        "* [Python](http://www.python.org) version 3.x;\n",
        "* [Numpy](http://www.numpy.org), the core numerical extensions for linear algebra and multidimensional arrays;\n",
        "* [Scipy](http://www.scipy.org), additional libraries for scientific programming;\n",
        "* [Matplotlib](http://matplotlib.sf.net), excellent plotting and graphing libraries;\n",
        "* [Jupyter](http://jupyter.org), with the additional libraries required for the notebook interface.\n"
      ]
    },
    {
      "cell_type": "markdown",
      "metadata": {
        "id": "fuwEwGrmWxz4"
      },
      "source": [
        "# I. Python Overview\n",
        "\n",
        "The lessons that follow make use of the Jupyter (formerly IPython) notebooks.\n",
        "\n",
        "Briefly, notebooks have code cells (that are generally followed by result cells) and text cells. The text cells are the stuff that you're reading now. The code cells start with \"In []:\" with some number generally in the brackets.\n",
        "\n",
        "**If you put your cursor in the code cell and hit Shift-Enter, the code will run in the Python interpreter and the result will print out in the output cell.**\n",
        "\n",
        "You can then change things around and see whether you understand what's going on. If you need to know more, see the [Jupyter notebook documentation](http://jupyter.org/documentation.html)."
      ]
    },
    {
      "cell_type": "markdown",
      "metadata": {
        "id": "irCV0r-fWxz6"
      },
      "source": [
        "\n",
        "\n",
        "## Using Python as a Calculator"
      ]
    },
    {
      "cell_type": "markdown",
      "metadata": {
        "id": "mDm4bYW0Wxz7"
      },
      "source": [
        "Many of the things I used to use a calculator for, I now use Python for:"
      ]
    },
    {
      "cell_type": "code",
      "execution_count": 1,
      "metadata": {
        "colab": {
          "base_uri": "https://localhost:8080/"
        },
        "id": "cdhcVBA4Wxz8",
        "outputId": "0c1a3533-0aba-4176-f825-12f893ef93fa"
      },
      "outputs": [
        {
          "output_type": "execute_result",
          "data": {
            "text/plain": [
              "4"
            ]
          },
          "metadata": {},
          "execution_count": 1
        }
      ],
      "source": [
        "2+2"
      ]
    },
    {
      "cell_type": "code",
      "execution_count": 2,
      "metadata": {
        "colab": {
          "base_uri": "https://localhost:8080/"
        },
        "id": "bM0RnPuOWxz_",
        "outputId": "3dd2f962-945a-4777-bc14-90f31a6cb56c"
      },
      "outputs": [
        {
          "output_type": "execute_result",
          "data": {
            "text/plain": [
              "5.0"
            ]
          },
          "metadata": {},
          "execution_count": 2
        }
      ],
      "source": [
        "(50 - 5 * 6) / 4"
      ]
    },
    {
      "cell_type": "markdown",
      "metadata": {
        "id": "g3Uhp3twWx0A"
      },
      "source": [
        "In Python 3, division between integers returns a float (as you would obtain on a handheld calculator). To obtain the integer division, use a double slash:"
      ]
    },
    {
      "cell_type": "code",
      "execution_count": 3,
      "metadata": {
        "colab": {
          "base_uri": "https://localhost:8080/"
        },
        "id": "vqZY0-LtWx0C",
        "outputId": "8696cb7e-93bd-4017-8f49-32c2e9ffdd91"
      },
      "outputs": [
        {
          "output_type": "stream",
          "name": "stdout",
          "text": [
            "2.3333333333333335\n",
            "2\n"
          ]
        }
      ],
      "source": [
        "print(7 / 3)\n",
        "print(7 // 3)"
      ]
    },
    {
      "cell_type": "markdown",
      "metadata": {
        "id": "caj0I_L3Wx0E"
      },
      "source": [
        "You can define variables using the equals (=) sign:"
      ]
    },
    {
      "cell_type": "code",
      "execution_count": 4,
      "metadata": {
        "colab": {
          "base_uri": "https://localhost:8080/"
        },
        "id": "fq28kBmwWx0F",
        "outputId": "8e548003-24ab-426d-f371-8e0cd2d0a41b"
      },
      "outputs": [
        {
          "output_type": "execute_result",
          "data": {
            "text/plain": [
              "600"
            ]
          },
          "metadata": {},
          "execution_count": 4
        }
      ],
      "source": [
        "width = 20\n",
        "length = 30\n",
        "area = length*width\n",
        "area"
      ]
    },
    {
      "cell_type": "markdown",
      "metadata": {
        "id": "bp7AaKxNWx0G"
      },
      "source": [
        "## Strings\n",
        "Strings are lists of printable characters, and can be defined using either single quotes"
      ]
    },
    {
      "cell_type": "code",
      "execution_count": 5,
      "metadata": {
        "colab": {
          "base_uri": "https://localhost:8080/",
          "height": 35
        },
        "id": "qzGU_17mWx0H",
        "outputId": "a027033d-6412-43fc-bf25-e9bbb017e3dc"
      },
      "outputs": [
        {
          "output_type": "execute_result",
          "data": {
            "text/plain": [
              "'Hello, World!'"
            ],
            "application/vnd.google.colaboratory.intrinsic+json": {
              "type": "string"
            }
          },
          "metadata": {},
          "execution_count": 5
        }
      ],
      "source": [
        "'Hello, World!'"
      ]
    },
    {
      "cell_type": "markdown",
      "metadata": {
        "id": "WXXob7JOWx0I"
      },
      "source": [
        "or double quotes"
      ]
    },
    {
      "cell_type": "code",
      "execution_count": 6,
      "metadata": {
        "id": "IEJGxvAfWx0I"
      },
      "outputs": [],
      "source": [
        "greeting = \"Hello, World!\""
      ]
    },
    {
      "cell_type": "markdown",
      "metadata": {
        "id": "rI5vvHGVWx0J"
      },
      "source": [
        "The **print** function is often used for printing character strings and other objects:"
      ]
    },
    {
      "cell_type": "code",
      "execution_count": 7,
      "metadata": {
        "colab": {
          "base_uri": "https://localhost:8080/"
        },
        "id": "pD1LUqmrWx0J",
        "outputId": "d798b0a7-23ae-4ea3-eca9-806d96bac3da"
      },
      "outputs": [
        {
          "output_type": "stream",
          "name": "stdout",
          "text": [
            "Hello, World! The area is 600\n"
          ]
        }
      ],
      "source": [
        "print(greeting, \"The area is\", area)"
      ]
    },
    {
      "cell_type": "markdown",
      "metadata": {
        "id": "uAZ9E06yWx0K"
      },
      "source": [
        "## Lists\n",
        "Very often in a programming language, one wants to keep a group of similar items together. Python does this using a data type called **lists**."
      ]
    },
    {
      "cell_type": "code",
      "execution_count": 8,
      "metadata": {
        "id": "--7ZhZlFWx0L"
      },
      "outputs": [],
      "source": [
        "days_of_the_week = [\"Sunday\",\"Monday\",\"Tuesday\",\"Wednesday\",\"Thursday\",\"Friday\",\"Saturday\"]"
      ]
    },
    {
      "cell_type": "markdown",
      "metadata": {
        "id": "Q8W7wZmxWx0M"
      },
      "source": [
        "You can access members of the list using the **index** of that item:"
      ]
    },
    {
      "cell_type": "code",
      "execution_count": 9,
      "metadata": {
        "colab": {
          "base_uri": "https://localhost:8080/",
          "height": 0
        },
        "id": "-VflM2VOWx0M",
        "outputId": "72510d71-65e0-4a0a-f125-eb8f66a8960e"
      },
      "outputs": [
        {
          "output_type": "execute_result",
          "data": {
            "text/plain": [
              "'Tuesday'"
            ],
            "application/vnd.google.colaboratory.intrinsic+json": {
              "type": "string"
            }
          },
          "metadata": {},
          "execution_count": 9
        }
      ],
      "source": [
        "days_of_the_week[2]"
      ]
    },
    {
      "cell_type": "markdown",
      "metadata": {
        "id": "nL2qM14FWx0N"
      },
      "source": [
        "Python lists, like C, but unlike Fortran, use 0 as the index of the first element of a list. Thus, in this example, the 0 element is \"Sunday\", 1 is \"Monday\", and so on. If you need to access the *n*th element from the end of the list, you can use a negative index. For example, the -1 element of a list is the last element:"
      ]
    },
    {
      "cell_type": "code",
      "execution_count": 10,
      "metadata": {
        "colab": {
          "base_uri": "https://localhost:8080/",
          "height": 0
        },
        "id": "RW_BcvLOWx0O",
        "outputId": "42db76d1-841c-4c75-9ed3-446e9db52126"
      },
      "outputs": [
        {
          "output_type": "execute_result",
          "data": {
            "text/plain": [
              "'Saturday'"
            ],
            "application/vnd.google.colaboratory.intrinsic+json": {
              "type": "string"
            }
          },
          "metadata": {},
          "execution_count": 10
        }
      ],
      "source": [
        "days_of_the_week[-1]"
      ]
    },
    {
      "cell_type": "markdown",
      "metadata": {
        "id": "zWzPuk6rWx0O"
      },
      "source": [
        "You can add additional items to the list using the .append() command:"
      ]
    },
    {
      "cell_type": "code",
      "execution_count": 11,
      "metadata": {
        "colab": {
          "base_uri": "https://localhost:8080/"
        },
        "id": "xHyheV5_Wx0P",
        "outputId": "06494171-409f-477a-d7ff-b27c299bd303"
      },
      "outputs": [
        {
          "output_type": "stream",
          "name": "stdout",
          "text": [
            "['Fortran', 'C', 'C++', 'Python']\n"
          ]
        }
      ],
      "source": [
        "languages = [\"Fortran\",\"C\",\"C++\"]\n",
        "languages.append(\"Python\")\n",
        "print(languages)"
      ]
    },
    {
      "cell_type": "markdown",
      "metadata": {
        "id": "bZO3zCvnWx0P"
      },
      "source": [
        "The **range()** command is a convenient way to make sequential lists of numbers:"
      ]
    },
    {
      "cell_type": "code",
      "execution_count": 12,
      "metadata": {
        "colab": {
          "base_uri": "https://localhost:8080/"
        },
        "id": "LqEV6hU6Wx0Q",
        "outputId": "55fa4131-dba6-4e67-8da9-31bdc44c1dfc"
      },
      "outputs": [
        {
          "output_type": "execute_result",
          "data": {
            "text/plain": [
              "[0, 1, 2, 3, 4, 5, 6, 7, 8, 9]"
            ]
          },
          "metadata": {},
          "execution_count": 12
        }
      ],
      "source": [
        "list(range(10))"
      ]
    },
    {
      "cell_type": "markdown",
      "metadata": {
        "id": "56SG_jbeWx0Q"
      },
      "source": [
        "Note that range(n) starts at 0 and gives the sequential list of integers less than n. If you want to start at a different number, use range(start,stop)"
      ]
    },
    {
      "cell_type": "code",
      "execution_count": 13,
      "metadata": {
        "colab": {
          "base_uri": "https://localhost:8080/"
        },
        "id": "CGJp-ceFWx0Q",
        "outputId": "f79495ae-d45f-433e-db63-3d01d0570b26"
      },
      "outputs": [
        {
          "output_type": "execute_result",
          "data": {
            "text/plain": [
              "[2, 3, 4, 5, 6, 7]"
            ]
          },
          "metadata": {},
          "execution_count": 13
        }
      ],
      "source": [
        "list(range(2,8))"
      ]
    },
    {
      "cell_type": "markdown",
      "metadata": {
        "id": "UQbKalB7Wx0R"
      },
      "source": [
        "Lists do not have to hold the same data type. For example,"
      ]
    },
    {
      "cell_type": "code",
      "execution_count": 14,
      "metadata": {
        "id": "CdQ_DFpVWx0R"
      },
      "outputs": [],
      "source": [
        "a_list = [\"Today\",7,99.3,\"\"]"
      ]
    },
    {
      "cell_type": "code",
      "execution_count": 15,
      "metadata": {
        "colab": {
          "base_uri": "https://localhost:8080/"
        },
        "id": "ro1bs_k9Wx0R",
        "outputId": "6a8aa0b9-6b72-45d7-8984-2eed3ceea34f"
      },
      "outputs": [
        {
          "output_type": "stream",
          "name": "stdout",
          "text": [
            "Help on built-in function len in module builtins:\n",
            "\n",
            "len(obj, /)\n",
            "    Return the number of items in a container.\n",
            "\n"
          ]
        }
      ],
      "source": [
        "help(len)"
      ]
    },
    {
      "cell_type": "code",
      "execution_count": 16,
      "metadata": {
        "colab": {
          "base_uri": "https://localhost:8080/"
        },
        "id": "M0sOT979Wx0S",
        "outputId": "cefb7bbe-4ba7-49fe-8c23-50c8bcdabe53"
      },
      "outputs": [
        {
          "output_type": "execute_result",
          "data": {
            "text/plain": [
              "4"
            ]
          },
          "metadata": {},
          "execution_count": 16
        }
      ],
      "source": [
        "len(a_list)"
      ]
    },
    {
      "cell_type": "markdown",
      "metadata": {
        "id": "6AtBav0MWx0S"
      },
      "source": [
        "## Iteration, Indentation, and Blocks\n",
        "One of the most useful things you can do with lists is to *iterate* through them, i.e. to go through each element one at a time. To do this in Python, we use the **for** statement:"
      ]
    },
    {
      "cell_type": "code",
      "execution_count": 17,
      "metadata": {
        "colab": {
          "base_uri": "https://localhost:8080/"
        },
        "id": "bzSvt0jzWx0T",
        "outputId": "feb277ff-c4f3-44da-bf94-313c4beaaac4"
      },
      "outputs": [
        {
          "output_type": "stream",
          "name": "stdout",
          "text": [
            "Sunday\n",
            "Monday\n",
            "Tuesday\n",
            "Wednesday\n",
            "Thursday\n",
            "Friday\n",
            "Saturday\n"
          ]
        }
      ],
      "source": [
        "for day in days_of_the_week:\n",
        "    print(day)"
      ]
    },
    {
      "cell_type": "markdown",
      "metadata": {
        "id": "h_HzxsTOWx0T"
      },
      "source": [
        "This code snippet goes through each element of the list called **days_of_the_week** and assigns it to the variable **day**. It then executes everything in the indented block (in this case only one line of code, the print statement) using those variable assignments. When the program has gone through every element of the list, it exists the block.\n",
        "\n",
        "(Almost) every programming language defines blocks of code in some way. In Fortran, one uses END statements (ENDDO, ENDIF, etc.) to define code blocks. In C, C++, and Perl, one uses curly braces {} to define these blocks.\n",
        "\n",
        "**Python uses a colon (\":\"), followed by indentation level to define code blocks.** Everything at a higher level of indentation is taken to be in the same block. In the above example the block was only a single line, but we could have had longer blocks as well:"
      ]
    },
    {
      "cell_type": "code",
      "execution_count": 18,
      "metadata": {
        "colab": {
          "base_uri": "https://localhost:8080/"
        },
        "id": "IobYefEtWx0U",
        "outputId": "2272daf8-a9a3-4d92-a096-851ea3313f9b"
      },
      "outputs": [
        {
          "output_type": "stream",
          "name": "stdout",
          "text": [
            "Today is Sunday\n",
            "Today is Monday\n",
            "Today is Tuesday\n",
            "Today is Wednesday\n",
            "Today is Thursday\n",
            "Today is Friday\n",
            "Today is Saturday\n"
          ]
        }
      ],
      "source": [
        "for day in days_of_the_week:\n",
        "    statement = \"Today is \" + day\n",
        "    print(statement)"
      ]
    },
    {
      "cell_type": "markdown",
      "metadata": {
        "id": "WN2KkRxQWx0V"
      },
      "source": [
        "The **range()** command is particularly useful with the **for** statement to execute loops of a specified length:"
      ]
    },
    {
      "cell_type": "code",
      "execution_count": 19,
      "metadata": {
        "colab": {
          "base_uri": "https://localhost:8080/"
        },
        "id": "jTBc1yn_Wx0V",
        "outputId": "80130614-be57-4b92-c720-3aabcc0c0841"
      },
      "outputs": [
        {
          "output_type": "stream",
          "name": "stdout",
          "text": [
            "The square of  0  is  0\n",
            "The square of  1  is  1\n",
            "The square of  2  is  4\n",
            "The square of  3  is  9\n",
            "The square of  4  is  16\n",
            "The square of  5  is  25\n",
            "The square of  6  is  36\n",
            "The square of  7  is  49\n",
            "The square of  8  is  64\n",
            "The square of  9  is  81\n"
          ]
        }
      ],
      "source": [
        "for i in range(10):\n",
        "    print(\"The square of \", i, \" is \", i*i)"
      ]
    },
    {
      "cell_type": "markdown",
      "metadata": {
        "id": "wOM2Jl_HWx0V"
      },
      "source": [
        "## Slicing\n",
        "Lists and strings have something in common that you might not suspect: they can both be treated as sequences. You already know that you can iterate through the elements of a list."
      ]
    },
    {
      "cell_type": "markdown",
      "metadata": {
        "id": "qDoXY70SWx0W"
      },
      "source": [
        "The *slicing* operation can be used on any sequence. We already know that we can use *indexing* to get the first element of a list:"
      ]
    },
    {
      "cell_type": "code",
      "execution_count": 20,
      "metadata": {
        "colab": {
          "base_uri": "https://localhost:8080/",
          "height": 0
        },
        "id": "j6Y6wQh2Wx0X",
        "outputId": "5adb0d5a-a9f8-4aea-9f86-906deb0fe215"
      },
      "outputs": [
        {
          "output_type": "execute_result",
          "data": {
            "text/plain": [
              "'Sunday'"
            ],
            "application/vnd.google.colaboratory.intrinsic+json": {
              "type": "string"
            }
          },
          "metadata": {},
          "execution_count": 20
        }
      ],
      "source": [
        "days_of_the_week[0]"
      ]
    },
    {
      "cell_type": "markdown",
      "metadata": {
        "id": "D2PWvXb0Wx0Y"
      },
      "source": [
        "If we want the list containing the first two elements of a list, we can do this via"
      ]
    },
    {
      "cell_type": "code",
      "execution_count": 21,
      "metadata": {
        "colab": {
          "base_uri": "https://localhost:8080/"
        },
        "id": "VQlfjHloWx0Y",
        "outputId": "0a70d7f6-1fe3-4785-e046-e2fe9f8515e2"
      },
      "outputs": [
        {
          "output_type": "execute_result",
          "data": {
            "text/plain": [
              "['Sunday', 'Monday']"
            ]
          },
          "metadata": {},
          "execution_count": 21
        }
      ],
      "source": [
        "days_of_the_week[0:2]"
      ]
    },
    {
      "cell_type": "markdown",
      "metadata": {
        "id": "z4H94M2sWx0Y"
      },
      "source": [
        "or simply"
      ]
    },
    {
      "cell_type": "code",
      "execution_count": 22,
      "metadata": {
        "colab": {
          "base_uri": "https://localhost:8080/"
        },
        "id": "Pk7dau-1Wx0Z",
        "outputId": "27936486-231c-47cc-d96b-8350466f4b46"
      },
      "outputs": [
        {
          "output_type": "execute_result",
          "data": {
            "text/plain": [
              "['Sunday', 'Monday']"
            ]
          },
          "metadata": {},
          "execution_count": 22
        }
      ],
      "source": [
        "days_of_the_week[:2]"
      ]
    },
    {
      "cell_type": "markdown",
      "metadata": {
        "id": "fEUefITzWx0Z"
      },
      "source": [
        "If we want the last items of the list, we can do this with negative slicing:"
      ]
    },
    {
      "cell_type": "code",
      "execution_count": 23,
      "metadata": {
        "colab": {
          "base_uri": "https://localhost:8080/"
        },
        "id": "krQbemfHWx0Z",
        "outputId": "da31e2e4-77f6-4704-d6cc-1e5f7df26ccd"
      },
      "outputs": [
        {
          "output_type": "execute_result",
          "data": {
            "text/plain": [
              "['Friday', 'Saturday']"
            ]
          },
          "metadata": {},
          "execution_count": 23
        }
      ],
      "source": [
        "days_of_the_week[-2:]"
      ]
    },
    {
      "cell_type": "markdown",
      "metadata": {
        "id": "hlSSogLKWx0a"
      },
      "source": [
        "which is somewhat logically consistent with negative indices accessing the last elements of the list.\n",
        "\n",
        "You can do:"
      ]
    },
    {
      "cell_type": "markdown",
      "metadata": {
        "id": "HKJm0ycVWx0a"
      },
      "source": [
        "## Booleans and Truth Testing\n",
        "We have now learned a few data types. We have integers and floating point numbers, strings, and lists to contain them. We have also learned about lists, a container that can hold any data type. We have learned to print things out, and to iterate over items in lists. We will now learn about **boolean** variables that can be either True or False.\n",
        "\n",
        "We invariably need some concept of *conditions* in programming to control branching behavior, to allow a program to react differently to different situations. If it's Monday, I'll go to work, but if it's Sunday, I'll sleep in. To do this in Python, we use a combination of **boolean** variables, which evaluate to either True or False, and **if** statements, that control branching based on boolean values."
      ]
    },
    {
      "cell_type": "markdown",
      "metadata": {
        "id": "2q4Wb9j-Wx0a"
      },
      "source": [
        "For example:"
      ]
    },
    {
      "cell_type": "code",
      "execution_count": 24,
      "metadata": {
        "colab": {
          "base_uri": "https://localhost:8080/"
        },
        "id": "_NKp27WSWx0b",
        "outputId": "d1fcab0f-04a8-47db-e8b4-a692f74c1718"
      },
      "outputs": [
        {
          "output_type": "stream",
          "name": "stdout",
          "text": [
            "Sleep in\n"
          ]
        }
      ],
      "source": [
        "day = \"Sunday\" # single equal -> assignment\n",
        "\n",
        "if day == \"Sunday\": # double equal -> comparison\n",
        "    print(\"Sleep in\")\n",
        "elif day == \"Saturday\":\n",
        "    print(\"Do chores\")\n",
        "else:\n",
        "    print(\"Go to work\")"
      ]
    },
    {
      "cell_type": "code",
      "execution_count": 25,
      "metadata": {
        "colab": {
          "base_uri": "https://localhost:8080/"
        },
        "id": "0SqG4pCjWx0b",
        "outputId": "9d1c4c09-45c7-422d-9682-f4917f126c23"
      },
      "outputs": [
        {
          "output_type": "execute_result",
          "data": {
            "text/plain": [
              "True"
            ]
          },
          "metadata": {},
          "execution_count": 25
        }
      ],
      "source": [
        "50 == 2*25"
      ]
    },
    {
      "cell_type": "code",
      "execution_count": 26,
      "metadata": {
        "scrolled": true,
        "colab": {
          "base_uri": "https://localhost:8080/"
        },
        "id": "6PFDOKUZWx0b",
        "outputId": "b215353a-e7ef-4948-c335-9c3c5ce7da70"
      },
      "outputs": [
        {
          "output_type": "execute_result",
          "data": {
            "text/plain": [
              "True"
            ]
          },
          "metadata": {},
          "execution_count": 26
        }
      ],
      "source": [
        "3 < 3.14159"
      ]
    },
    {
      "cell_type": "code",
      "execution_count": 27,
      "metadata": {
        "colab": {
          "base_uri": "https://localhost:8080/"
        },
        "id": "i96oWKnIWx0c",
        "outputId": "25dec3a9-2d79-45f5-8425-c0ef1e07a3b4"
      },
      "outputs": [
        {
          "output_type": "execute_result",
          "data": {
            "text/plain": [
              "True"
            ]
          },
          "metadata": {},
          "execution_count": 27
        }
      ],
      "source": [
        "1 == 1.0"
      ]
    },
    {
      "cell_type": "code",
      "execution_count": 28,
      "metadata": {
        "colab": {
          "base_uri": "https://localhost:8080/"
        },
        "id": "43VGrHHZWx0c",
        "outputId": "8ecf8548-ea37-4504-9499-441019a4a495"
      },
      "outputs": [
        {
          "output_type": "execute_result",
          "data": {
            "text/plain": [
              "True"
            ]
          },
          "metadata": {},
          "execution_count": 28
        }
      ],
      "source": [
        "1 != 0"
      ]
    },
    {
      "cell_type": "code",
      "execution_count": 29,
      "metadata": {
        "colab": {
          "base_uri": "https://localhost:8080/"
        },
        "id": "Vg0hOB4xWx0c",
        "outputId": "461632bc-b9fb-4501-ea07-0d71af48a716"
      },
      "outputs": [
        {
          "output_type": "execute_result",
          "data": {
            "text/plain": [
              "True"
            ]
          },
          "metadata": {},
          "execution_count": 29
        }
      ],
      "source": [
        "1 <= 2"
      ]
    },
    {
      "cell_type": "code",
      "execution_count": 30,
      "metadata": {
        "colab": {
          "base_uri": "https://localhost:8080/"
        },
        "id": "IfHxei54Wx0d",
        "outputId": "82e99a43-5232-4c67-8cfa-fe42c8947f92"
      },
      "outputs": [
        {
          "output_type": "execute_result",
          "data": {
            "text/plain": [
              "True"
            ]
          },
          "metadata": {},
          "execution_count": 30
        }
      ],
      "source": [
        "1 >= 1"
      ]
    },
    {
      "cell_type": "markdown",
      "metadata": {
        "id": "bzEJvYCXWx0d"
      },
      "source": [
        "## Functions\n",
        "We can define a function with the **def** statement in Python:"
      ]
    },
    {
      "cell_type": "code",
      "execution_count": 31,
      "metadata": {
        "id": "Ufwj40PoWx0e"
      },
      "outputs": [],
      "source": [
        "def square_loss(y, target):\n",
        "    \"Return the value of the square loss\"\n",
        "    return (y - target)**2"
      ]
    },
    {
      "cell_type": "markdown",
      "metadata": {
        "id": "MYk5gg-zWx0e"
      },
      "source": [
        "We can now call **square_loss()** for different arguments:"
      ]
    },
    {
      "cell_type": "code",
      "execution_count": 32,
      "metadata": {
        "colab": {
          "base_uri": "https://localhost:8080/"
        },
        "id": "2-Gzs6SvWx0e",
        "outputId": "c7965462-aa37-4b13-9ff6-70472803750c"
      },
      "outputs": [
        {
          "output_type": "execute_result",
          "data": {
            "text/plain": [
              "1"
            ]
          },
          "metadata": {},
          "execution_count": 32
        }
      ],
      "source": [
        "square_loss(2, 3)"
      ]
    },
    {
      "cell_type": "code",
      "execution_count": 33,
      "metadata": {
        "colab": {
          "base_uri": "https://localhost:8080/"
        },
        "id": "Fv7K8qP0Wx0f",
        "outputId": "19e86b15-d5e5-4a5c-dcfd-99f86aba2fda"
      },
      "outputs": [
        {
          "output_type": "execute_result",
          "data": {
            "text/plain": [
              "25"
            ]
          },
          "metadata": {},
          "execution_count": 33
        }
      ],
      "source": [
        "square_loss(-2, 3)"
      ]
    },
    {
      "cell_type": "markdown",
      "metadata": {
        "id": "8nn5CsUqWx0f"
      },
      "source": [
        "## Dictionaries\n",
        "**Dictionaries** are an object called \"mappings\" or \"associative arrays\" in other languages. Whereas a list associates an integer index with a set of objects:"
      ]
    },
    {
      "cell_type": "markdown",
      "metadata": {
        "id": "IVu0IWXrWx0f"
      },
      "source": [
        "The index in a dictionary is called the *key*, and the corresponding dictionary entry is the *value*. A dictionary can use (almost) anything as the key. Whereas lists are formed with square brackets [], dictionaries use curly brackets {}:"
      ]
    },
    {
      "cell_type": "markdown",
      "metadata": {
        "id": "VSbms8-DWx0g"
      },
      "source": [
        "There's also a convenient way to create dictionaries without having to quote the keys."
      ]
    },
    {
      "cell_type": "code",
      "execution_count": 34,
      "metadata": {
        "colab": {
          "base_uri": "https://localhost:8080/"
        },
        "id": "dL7l4G37Wx0g",
        "outputId": "9044a06a-1028-4541-d2ce-87eac37ad25a"
      },
      "outputs": [
        {
          "output_type": "stream",
          "name": "stdout",
          "text": [
            "Rick's age is  46\n"
          ]
        }
      ],
      "source": [
        "ages = {\"Rick\": 46, \"Bob\": 86, \"Fred\": 21}\n",
        "print(\"Rick's age is \",ages[\"Rick\"])"
      ]
    },
    {
      "cell_type": "code",
      "execution_count": 35,
      "metadata": {
        "colab": {
          "base_uri": "https://localhost:8080/"
        },
        "id": "ym7vlyeDWx0g",
        "outputId": "50b8a71f-0abf-416a-e262-1b79bc80d31d"
      },
      "outputs": [
        {
          "output_type": "execute_result",
          "data": {
            "text/plain": [
              "{'Bob': 86, 'Fred': 20, 'Rick': 46}"
            ]
          },
          "metadata": {},
          "execution_count": 35
        }
      ],
      "source": [
        "dict(Rick=46,Bob=86,Fred=20)"
      ]
    },
    {
      "cell_type": "markdown",
      "metadata": {
        "id": "WZeTkpgsWx0h"
      },
      "source": [
        "# II. Numpy and Scipy\n",
        "\n",
        "[Numpy](http://numpy.org) contains core routines for doing fast vector, matrix, and linear algebra-type operations in Python. [Scipy](http://scipy) contains additional routines for optimization, special functions, and so on. Both contain modules written in C and Fortran so that they're as fast as possible. Together, they give Python roughly the same capability that the [Matlab](http://www.mathworks.com/products/matlab/) program offers. (In fact, if you're an experienced Matlab user, there a [guide to Numpy for Matlab users](http://www.scipy.org/NumPy_for_Matlab_Users) just for you.)\n",
        "\n",
        "## Making vectors and matrices\n",
        "Fundamental to both Numpy and Scipy is the ability to work with vectors and matrices. You can create vectors from lists using the **array** command:"
      ]
    },
    {
      "cell_type": "code",
      "execution_count": 36,
      "metadata": {
        "id": "LOdfmgSwWx0h"
      },
      "outputs": [],
      "source": [
        "import numpy as np"
      ]
    },
    {
      "cell_type": "code",
      "execution_count": 37,
      "metadata": {
        "colab": {
          "base_uri": "https://localhost:8080/"
        },
        "id": "4FJayYmpWx0h",
        "outputId": "0dfbb963-9541-4540-946e-0c35250d8ffb"
      },
      "outputs": [
        {
          "output_type": "execute_result",
          "data": {
            "text/plain": [
              "array([1, 2, 3, 4, 5, 6])"
            ]
          },
          "metadata": {},
          "execution_count": 37
        }
      ],
      "source": [
        "np.array([1,2,3,4,5,6])"
      ]
    },
    {
      "cell_type": "markdown",
      "metadata": {
        "id": "uhdY_ScdWx0i"
      },
      "source": [
        "You can pass in a second argument to **array** that gives the numeric type. There are a number of types [listed here](http://docs.scipy.org/doc/numpy/user/basics.types.html) that your matrix can be. Some of these are aliased to single character codes. The most common ones are 'd' (double precision floating point number), 'D' (double precision complex number), and 'i' (int32). Thus,"
      ]
    },
    {
      "cell_type": "markdown",
      "metadata": {
        "id": "PQeDUzjpWx0i"
      },
      "source": [
        "To build matrices, you can either use the array command with lists of lists:"
      ]
    },
    {
      "cell_type": "code",
      "execution_count": 38,
      "metadata": {
        "colab": {
          "base_uri": "https://localhost:8080/"
        },
        "id": "Qbzkg-tQWx0i",
        "outputId": "b5af5671-52a3-403b-c777-c57c8373789c"
      },
      "outputs": [
        {
          "output_type": "execute_result",
          "data": {
            "text/plain": [
              "array([[0., 1.],\n",
              "       [1., 0.]])"
            ]
          },
          "metadata": {},
          "execution_count": 38
        }
      ],
      "source": [
        "np.array([[0,1],[1,0]], 'd')"
      ]
    },
    {
      "cell_type": "markdown",
      "metadata": {
        "id": "HgIUQh0vWx0i"
      },
      "source": [
        "You can also form empty (zero) matrices of arbitrary shape (including vectors, which Numpy treats as vectors with one row), using the **zeros** command:"
      ]
    },
    {
      "cell_type": "code",
      "execution_count": 39,
      "metadata": {
        "colab": {
          "base_uri": "https://localhost:8080/"
        },
        "id": "tx__7OcYWx0j",
        "outputId": "ca3ee007-abae-4682-eb60-4359b125ef5c"
      },
      "outputs": [
        {
          "output_type": "execute_result",
          "data": {
            "text/plain": [
              "array([[0., 0., 0.],\n",
              "       [0., 0., 0.],\n",
              "       [0., 0., 0.]])"
            ]
          },
          "metadata": {},
          "execution_count": 39
        }
      ],
      "source": [
        "np.zeros((3,3), 'd')"
      ]
    },
    {
      "cell_type": "code",
      "execution_count": 40,
      "metadata": {
        "colab": {
          "base_uri": "https://localhost:8080/"
        },
        "id": "luqmZO2fWx0j",
        "outputId": "5bfc9502-1193-4b6d-9e5a-a9357b5b5853"
      },
      "outputs": [
        {
          "output_type": "execute_result",
          "data": {
            "text/plain": [
              "array([[1., 1., 1.]])"
            ]
          },
          "metadata": {},
          "execution_count": 40
        }
      ],
      "source": [
        "np.ones((1,3), 'd')"
      ]
    },
    {
      "cell_type": "markdown",
      "metadata": {
        "id": "Agg3E4trWx0j"
      },
      "source": [
        "or column vectors:"
      ]
    },
    {
      "cell_type": "code",
      "execution_count": 41,
      "metadata": {
        "colab": {
          "base_uri": "https://localhost:8080/"
        },
        "id": "rKwICLjOWx0j",
        "outputId": "0243da43-9bd5-4f4a-b099-3ccbafccf0c0"
      },
      "outputs": [
        {
          "output_type": "execute_result",
          "data": {
            "text/plain": [
              "array([[1.],\n",
              "       [1.],\n",
              "       [1.]])"
            ]
          },
          "metadata": {},
          "execution_count": 41
        }
      ],
      "source": [
        "np.ones((3,1),'d')"
      ]
    },
    {
      "cell_type": "markdown",
      "metadata": {
        "id": "RpgMUpORWx0k"
      },
      "source": [
        "There's also an **eye** (identity matrix) command:"
      ]
    },
    {
      "cell_type": "code",
      "execution_count": 42,
      "metadata": {
        "colab": {
          "base_uri": "https://localhost:8080/"
        },
        "id": "W40Gkf01Wx0k",
        "outputId": "a2974e91-0498-48ca-e937-7b1c7ad57bee"
      },
      "outputs": [
        {
          "output_type": "execute_result",
          "data": {
            "text/plain": [
              "array([[1., 0., 0., 0.],\n",
              "       [0., 1., 0., 0.],\n",
              "       [0., 0., 1., 0.],\n",
              "       [0., 0., 0., 1.]])"
            ]
          },
          "metadata": {},
          "execution_count": 42
        }
      ],
      "source": [
        "np.eye(4)"
      ]
    },
    {
      "cell_type": "markdown",
      "metadata": {
        "id": "EniChWHGWx0l"
      },
      "source": [
        "## Linspace, matrix functions, and plotting\n",
        "The **linspace** command makes a linear array of points from a starting to an ending value. If you provide a third argument, it takes that as the number of points in the space."
      ]
    },
    {
      "cell_type": "code",
      "execution_count": 43,
      "metadata": {
        "colab": {
          "base_uri": "https://localhost:8080/"
        },
        "id": "EjRhGmdFWx0l",
        "outputId": "870103bc-31ff-4c11-aa80-208c6b543846"
      },
      "outputs": [
        {
          "output_type": "execute_result",
          "data": {
            "text/plain": [
              "array([0. , 0.1, 0.2, 0.3, 0.4, 0.5, 0.6, 0.7, 0.8, 0.9, 1. , 1.1, 1.2,\n",
              "       1.3, 1.4, 1.5, 1.6, 1.7, 1.8, 1.9, 2. , 2.1, 2.2, 2.3, 2.4, 2.5,\n",
              "       2.6, 2.7, 2.8, 2.9, 3. , 3.1, 3.2, 3.3, 3.4, 3.5, 3.6, 3.7, 3.8,\n",
              "       3.9, 4. ])"
            ]
          },
          "metadata": {},
          "execution_count": 43
        }
      ],
      "source": [
        "x = np.linspace(0,4,41)\n",
        "x"
      ]
    },
    {
      "cell_type": "markdown",
      "metadata": {
        "id": "l1oPEKHLWx0l"
      },
      "source": [
        "**linspace** is an easy way to make coordinates for plotting. Functions in the numpy library (all of which are imported into IPython notebook) can act on an entire vector (or even a matrix) of points at once. Thus,"
      ]
    },
    {
      "cell_type": "code",
      "execution_count": 44,
      "metadata": {
        "colab": {
          "base_uri": "https://localhost:8080/"
        },
        "id": "OPr7oHlkWx0m",
        "outputId": "466f5bcb-faba-442b-dd7e-0544d0af6bd8"
      },
      "outputs": [
        {
          "output_type": "execute_result",
          "data": {
            "text/plain": [
              "array([ 0.        ,  0.09983342,  0.19866933,  0.29552021,  0.38941834,\n",
              "        0.47942554,  0.56464247,  0.64421769,  0.71735609,  0.78332691,\n",
              "        0.84147098,  0.89120736,  0.93203909,  0.96355819,  0.98544973,\n",
              "        0.99749499,  0.9995736 ,  0.99166481,  0.97384763,  0.94630009,\n",
              "        0.90929743,  0.86320937,  0.8084964 ,  0.74570521,  0.67546318,\n",
              "        0.59847214,  0.51550137,  0.42737988,  0.33498815,  0.23924933,\n",
              "        0.14112001,  0.04158066, -0.05837414, -0.15774569, -0.2555411 ,\n",
              "       -0.35078323, -0.44252044, -0.52983614, -0.61185789, -0.68776616,\n",
              "       -0.7568025 ])"
            ]
          },
          "metadata": {},
          "execution_count": 44
        }
      ],
      "source": [
        "y = np.sin(x)\n",
        "y"
      ]
    },
    {
      "cell_type": "markdown",
      "metadata": {
        "id": "civMs00iWx0m"
      },
      "source": [
        "In conjunction with **matplotlib**, this is a nice way to plot things. (Depending on the browser and installation, replacing the *inline* option below with *notebook* allows interactive mode.)"
      ]
    },
    {
      "cell_type": "code",
      "execution_count": 45,
      "metadata": {
        "id": "xjMEFSGOWx0m"
      },
      "outputs": [],
      "source": [
        "#%matplotlib notebook\n",
        "%matplotlib inline\n",
        "import matplotlib.pyplot as plt"
      ]
    },
    {
      "cell_type": "code",
      "execution_count": 46,
      "metadata": {
        "colab": {
          "base_uri": "https://localhost:8080/",
          "height": 265
        },
        "id": "FsVIanXkWx0n",
        "outputId": "f987e7be-dee5-4781-e8e3-7e01041cd740"
      },
      "outputs": [
        {
          "output_type": "display_data",
          "data": {
            "text/plain": [
              "<Figure size 432x288 with 1 Axes>"
            ],
            "image/png": "[encoded data removed]"
          },
          "metadata": {
            "needs_background": "light"
          }
        }
      ],
      "source": [
        "plt.figure()\n",
        "plt.plot(x, y)\n",
        "plt.show()"
      ]
    },
    {
      "cell_type": "markdown",
      "metadata": {
        "id": "lFYCexucWx0n"
      },
      "source": [
        "We can also plot histograms:"
      ]
    },
    {
      "cell_type": "code",
      "execution_count": 47,
      "metadata": {
        "colab": {
          "base_uri": "https://localhost:8080/",
          "height": 265
        },
        "id": "lSkClYhaWx0n",
        "outputId": "7c344613-d28e-43fa-f607-d9b50abfdb68"
      },
      "outputs": [
        {
          "output_type": "display_data",
          "data": {
            "text/plain": [
              "<Figure size 432x288 with 1 Axes>"
            ],
            "image/png": "[encoded data removed]"
          },
          "metadata": {
            "needs_background": "light"
          }
        }
      ],
      "source": [
        "data = np.array([28, 16, 22,  8, 26, 21, 13, 15, 26, 16, 24,  1, 23, 15, 24, 5])\n",
        "\n",
        "plt.figure(figsize=(6,4))\n",
        "plt.hist(data, bins=np.linspace(start=0, stop=30, num=7))\n",
        "plt.show()"
      ]
    },
    {
      "cell_type": "markdown",
      "metadata": {
        "id": "SXI2buE3Wx0n"
      },
      "source": [
        "And scatter plots:"
      ]
    },
    {
      "cell_type": "code",
      "execution_count": 48,
      "metadata": {
        "colab": {
          "base_uri": "https://localhost:8080/",
          "height": 374
        },
        "id": "JyaiNY64Wx0o",
        "outputId": "441e96ae-92a7-49c8-d488-5474057e51e6"
      },
      "outputs": [
        {
          "output_type": "display_data",
          "data": {
            "text/plain": [
              "<Figure size 576x432 with 1 Axes>"
            ],
            "image/png": "[encoded data removed]"
          },
          "metadata": {
            "needs_background": "light"
          }
        }
      ],
      "source": [
        "plt.figure(figsize=(8,6))\n",
        "plt.scatter(data, x[:len(data)])\n",
        "plt.show()"
      ]
    },
    {
      "cell_type": "markdown",
      "metadata": {
        "id": "u3CPKFrSWx0o"
      },
      "source": [
        "## Matrix operations\n",
        "Matrix objects act sensibly when multiplied by scalars:"
      ]
    },
    {
      "cell_type": "code",
      "execution_count": 49,
      "metadata": {
        "colab": {
          "base_uri": "https://localhost:8080/"
        },
        "id": "CEm_9TAzWx0o",
        "outputId": "00335780-595f-48d9-89a4-94a8622d94c3"
      },
      "outputs": [
        {
          "output_type": "execute_result",
          "data": {
            "text/plain": [
              "array([[0.125, 0.   , 0.   ],\n",
              "       [0.   , 0.125, 0.   ],\n",
              "       [0.   , 0.   , 0.125]])"
            ]
          },
          "metadata": {},
          "execution_count": 49
        }
      ],
      "source": [
        "0.125 * np.eye(3)"
      ]
    },
    {
      "cell_type": "markdown",
      "metadata": {
        "id": "KtbtHCmtWx0o"
      },
      "source": [
        "as well as when you add two matrices together. (However, the matrices have to be the same shape.)"
      ]
    },
    {
      "cell_type": "code",
      "execution_count": 50,
      "metadata": {
        "colab": {
          "base_uri": "https://localhost:8080/"
        },
        "id": "KFkyFoJrWx0p",
        "outputId": "94a65b9c-ddbf-4522-fd43-7e300c84ff52"
      },
      "outputs": [
        {
          "output_type": "execute_result",
          "data": {
            "text/plain": [
              "array([[2., 1.],\n",
              "       [1., 3.]])"
            ]
          },
          "metadata": {},
          "execution_count": 50
        }
      ],
      "source": [
        "np.eye(2) + np.array([[1,1],[1,2]])"
      ]
    },
    {
      "cell_type": "markdown",
      "metadata": {
        "id": "PL4xbIO1Wx0p"
      },
      "source": [
        "Something that confuses Matlab users is that the times (*) operator give element-wise multiplication rather than matrix multiplication:"
      ]
    },
    {
      "cell_type": "code",
      "execution_count": 51,
      "metadata": {
        "colab": {
          "base_uri": "https://localhost:8080/"
        },
        "id": "U9z-iXPkWx0p",
        "outputId": "3fed589b-f93b-463b-847e-c0eecf51003f"
      },
      "outputs": [
        {
          "output_type": "execute_result",
          "data": {
            "text/plain": [
              "array([[1., 0.],\n",
              "       [0., 1.]])"
            ]
          },
          "metadata": {},
          "execution_count": 51
        }
      ],
      "source": [
        "np.eye(2) * np.ones((2,2))"
      ]
    },
    {
      "cell_type": "markdown",
      "metadata": {
        "id": "zUja_vygWx0p"
      },
      "source": [
        "To get matrix multiplication, you need the **dot** command:"
      ]
    },
    {
      "cell_type": "code",
      "execution_count": 52,
      "metadata": {
        "colab": {
          "base_uri": "https://localhost:8080/"
        },
        "id": "ltZF-llGWx0q",
        "outputId": "626e107d-6bc6-4746-aa9a-c8687fb7c331"
      },
      "outputs": [
        {
          "output_type": "execute_result",
          "data": {
            "text/plain": [
              "array([[1., 1.],\n",
              "       [1., 1.]])"
            ]
          },
          "metadata": {},
          "execution_count": 52
        }
      ],
      "source": [
        "np.dot(np.eye(2), np.ones((2,2)))"
      ]
    },
    {
      "cell_type": "markdown",
      "metadata": {
        "id": "x2K5s0LYWx0q"
      },
      "source": [
        "In python 3, @ is a shortcut to perform matrix multiplications:"
      ]
    },
    {
      "cell_type": "code",
      "execution_count": 53,
      "metadata": {
        "colab": {
          "base_uri": "https://localhost:8080/"
        },
        "id": "rznhna1OWx0q",
        "outputId": "9bad818d-02b6-45ba-fa51-3e6e25da0e0f"
      },
      "outputs": [
        {
          "output_type": "stream",
          "name": "stdout",
          "text": [
            "[[1. 1.]\n",
            " [1. 1.]]\n"
          ]
        }
      ],
      "source": [
        "import numpy as np\n",
        "print(np.eye(2) @ np.ones((2,2)))"
      ]
    },
    {
      "cell_type": "markdown",
      "metadata": {
        "id": "fIS1PCidWx0q"
      },
      "source": [
        "There are **determinant**, **inverse**, and **transpose** functions that act as you would suppose. Transpose can be abbreviated with \".T\" at the end of a matrix object:"
      ]
    },
    {
      "cell_type": "code",
      "execution_count": 54,
      "metadata": {
        "colab": {
          "base_uri": "https://localhost:8080/"
        },
        "id": "823KJvKsWx0r",
        "outputId": "c801070c-2222-482d-cb31-961a73d39ed6"
      },
      "outputs": [
        {
          "output_type": "execute_result",
          "data": {
            "text/plain": [
              "array([[1, 3],\n",
              "       [2, 4]])"
            ]
          },
          "metadata": {},
          "execution_count": 54
        }
      ],
      "source": [
        "m = np.array([[1,2],[3,4]])\n",
        "m.T"
      ]
    },
    {
      "cell_type": "code",
      "execution_count": 54,
      "metadata": {
        "id": "Df5YAbeJWx0r"
      },
      "outputs": [],
      "source": [
        ""
      ]
    }
  ],
  "metadata": {
    "kernelspec": {
      "display_name": "Python 3",
      "language": "python",
      "name": "python3"
    },
    "language_info": {
      "codemirror_mode": {
        "name": "ipython",
        "version": 3
      },
      "file_extension": ".py",
      "mimetype": "text/x-python",
      "name": "python",
      "nbconvert_exporter": "python",
      "pygments_lexer": "ipython3",
      "version": "3.8.10"
    },
    "colab": {
      "name": "0 Crash Course Python.ipynb",
      "provenance": [],
      "include_colab_link": true
    }
  },
  "nbformat": 4,
  "nbformat_minor": 0
}